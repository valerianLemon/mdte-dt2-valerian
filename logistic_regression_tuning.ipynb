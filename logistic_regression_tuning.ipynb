{
 "cells": [
  {
   "cell_type": "markdown",
   "metadata": {},
   "source": [
    "# Student Depression Logistc Regression\n",
    "\n",
    "## Table of Contents\n",
    "\n",
    "- [Student Depression](#student-depression)\n",
    "  - [Table of Contents](#table-of-contents)\n",
    "- [Functions](#functions)\n",
    "- [Classes](#classes)\n",
    "- [Load Data](#load-data)\n",
    "- [Stratified Shuffle Split](#stratified-shuffle-split)\n",
    "- [Encode Data](#encode-data)\n",
    "- [Data Preprocessing and Cleaning](#data-preprocessing-and-cleaning)\n",
    "- [Data Pipeline](#data-pipeline)\n",
    "- [Logistic Regression](#logistic-regression)\n",
    "  - [Grid Search](#grid-search)\n",
    "  - [Overfitting and Underfitting Visualization](#overfitting-and-underfitting-visualization)\n",
    "  - [Confusion Matrix](#confusion-matrix)\n",
    "  - [Feature Importance Coefficients in Logistic Regression](#feature-importance-coefficients-in-logistic-regression)"
   ]
  },
  {
   "cell_type": "markdown",
   "metadata": {},
   "source": [
    "# Functions"
   ]
  },
  {
   "cell_type": "code",
   "execution_count": 27,
   "metadata": {},
   "outputs": [],
   "source": [
    "import matplotlib.pyplot as plt\n",
    "import pandas as pd\n",
    "import seaborn as sns\n",
    "\n",
    "# Visualization Functions\n",
    "def plot_box_and_histogram(dataframe, column_name, bins=10):\n",
    "    column_data = dataframe[column_name]\n",
    "    mean_val = column_data.mean()\n",
    "    median_val = column_data.median()\n",
    "    mode_val = column_data.mode()[0]\n",
    "    Q1 = column_data.quantile(0.25)\n",
    "    Q3 = column_data.quantile(0.75)\n",
    "\n",
    "    fig, ax = plt.subplots(2, 1, figsize=(6, 5))\n",
    "    sns.boxplot(x=column_data, ax=ax[0], color='skyblue')\n",
    "    ax[0].set_title(f'Box Plot for {column_name}')\n",
    "    ax[0].set_xlabel(column_name)\n",
    "\n",
    "    ax[1].hist(column_data, bins=bins, edgecolor='black', alpha=0.7)\n",
    "    ax[1].set_title(f'Histogram for {column_name}')\n",
    "    ax[1].axvline(mean_val, color='purple', linestyle='--', label=f'Mean: {mean_val:.2f}')\n",
    "    ax[1].axvline(median_val, color='magenta', linestyle='--', label=f'Median: {median_val:.2f}')\n",
    "    ax[1].axvline(mode_val, color='red', linestyle='-', label=f'Mode: {mode_val:.2f}')\n",
    "    ax[1].legend()\n",
    "    plt.tight_layout()\n",
    "    plt.show()"
   ]
  },
  {
   "cell_type": "code",
   "execution_count": 28,
   "metadata": {},
   "outputs": [],
   "source": [
    "def plot_categorical_bar_chart(data, column, mapping_dict):\n",
    "    import matplotlib.pyplot as plt\n",
    "\n",
    "    # Check if the column exists in the data\n",
    "    if column not in data.columns:\n",
    "        raise ValueError(f\"Column '{column}' not found in the dataset.\")\n",
    "\n",
    "    # Reverse the mapping dictionary\n",
    "    reverse_mapping_dict = {v: k for k, v in mapping_dict.items()}\n",
    "\n",
    "    # Map the column using the reversed mapping dictionary\n",
    "    mapped_category = data[column].map(reverse_mapping_dict)\n",
    "\n",
    "    # Handle unmapped values\n",
    "    if mapped_category.isnull().any():\n",
    "        raise ValueError(\"Some values in the column do not have corresponding keys in the mapping dictionary.\")\n",
    "\n",
    "    # Count the occurrences of each category\n",
    "    category_counts = mapped_category.value_counts()\n",
    "\n",
    "    # Plot the bar chart\n",
    "    plt.figure(figsize=(6, 4))\n",
    "    category_counts.plot(kind='bar', color='skyblue', edgecolor='black')\n",
    "    plt.title(f\"Bar Chart for {column}\", fontsize=16)\n",
    "    plt.xlabel(\"Category\", fontsize=14)\n",
    "    plt.ylabel(\"Count\", fontsize=14)\n",
    "    plt.xticks(rotation=45, ha='right', fontsize=12)\n",
    "    plt.tight_layout()\n",
    "    plt.show()\n"
   ]
  },
  {
   "cell_type": "code",
   "execution_count": 29,
   "metadata": {},
   "outputs": [],
   "source": [
    "from sklearn.metrics import precision_score, recall_score, f1_score\n",
    "\n",
    "def evaluate_model(y_train, predictions, average='binary'):\n",
    "    precision = precision_score(y_train, predictions, average=average)\n",
    "    recall = recall_score(y_train, predictions, average=average)\n",
    "    f1 = f1_score(y_train, predictions, average=average)\n",
    "\n",
    "    # Print results\n",
    "    print(f\"Precision: {precision:.8f}\")\n",
    "    print(f\"Recall:    {recall:.8f}\")\n",
    "    print(f\"F1 Score:  {f1:.8f}\")"
   ]
  },
  {
   "cell_type": "code",
   "execution_count": 30,
   "metadata": {},
   "outputs": [],
   "source": [
    "from sklearn.model_selection import cross_val_predict, cross_val_score\n",
    "from sklearn.metrics import roc_curve, roc_auc_score\n",
    "\n",
    "def evaluate_model_cross_val(model, model_name, X, y):\n",
    "    # Compute cross-validated precision\n",
    "    precision = cross_val_score(model, X, y, cv=10, scoring='precision')\n",
    "    \n",
    "    # Compute cross-validated recall\n",
    "    recall = cross_val_score(model, X, y, cv=10, scoring='recall')\n",
    "    \n",
    "    # Compute cross-validated F1 score\n",
    "    f1 = cross_val_score(model, X, y, cv=10, scoring='f1')\n",
    "    \n",
    "    # Compute cross-validated ROC AUC score\n",
    "    roc_auc = cross_val_score(model, X, y, cv=10, scoring='roc_auc')\n",
    "    \n",
    "    # Print the results\n",
    "    print(f\"Precision: {precision.mean():.8f}\")\n",
    "    print(f\"Recall:    {recall.mean():.8f}\")\n",
    "    print(f\"F1 Score:  {f1.mean():.8f}\")\n",
    "    print(f\"ROC AUC:   {roc_auc.mean():.8f}\")\n",
    "\n",
    "    # Get cross-validated predicted probabilities\n",
    "    y_prob = cross_val_predict(model, X, y, cv=10, method='predict_proba')[:, 1]\n",
    "\n",
    "    # Compute ROC curve\n",
    "    fpr, tpr, _ = roc_curve(y, y_prob)\n",
    "    auc = roc_auc_score(y, y_prob)\n",
    "\n",
    "    # Plot ROC Curve\n",
    "    plt.figure(figsize=(4, 3))\n",
    "    plt.plot(fpr, tpr, color='blue', label=f'ROC Curve (AUC = {auc:.8f})')\n",
    "    plt.plot([0, 1], [0, 1], color='gray', linestyle='--')  # Random classifier baseline\n",
    "    plt.xlabel(\"False Positive Rate\")\n",
    "    plt.ylabel(\"True Positive Rate (Recall)\")\n",
    "    plt.title(\"Cross-Validated ROC Curve\")\n",
    "    plt.legend()\n",
    "    plt.show()\n",
    "    \n",
    "    # Return results as a DataFrame\n",
    "    return pd.DataFrame([{\n",
    "        \"Model\": model_name,\n",
    "        \"Precision\": precision.mean(),\n",
    "        \"Recall\": recall.mean(),\n",
    "        \"F1 Score\": f1.mean(),\n",
    "        \"ROC AUC\": roc_auc.mean()\n",
    "    }])"
   ]
  },
  {
   "cell_type": "code",
   "execution_count": 31,
   "metadata": {},
   "outputs": [],
   "source": [
    "import pandas as pd\n",
    "import matplotlib.pyplot as plt\n",
    "import seaborn as sns\n",
    "\n",
    "# Define a function to plot the heatmap\n",
    "def plot_correlation_heatmap(df, method, figsize=(6, 5)):\n",
    "    # Compute correlation matrix\n",
    "    corr_matrix = df.corr(method=method)\n",
    "    \n",
    "    title = f\"{method.capitalize()} Correlation Heatmap\"\n",
    "\n",
    "    # Plot heatmap\n",
    "    plt.figure(figsize=figsize)\n",
    "    sns.heatmap(corr_matrix, annot=True, fmt=\".1f\", cmap='coolwarm', square=True, cbar_kws={\"shrink\": 0.8})\n",
    "    plt.title(title, fontsize=10)\n",
    "    plt.show()"
   ]
  },
  {
   "cell_type": "code",
   "execution_count": 32,
   "metadata": {},
   "outputs": [],
   "source": [
    "def plot_feature_correlation(df, target, method, figsize=(6, 4), color='blue'):\n",
    "    # Ensure target column exists\n",
    "    if target not in df.columns:\n",
    "        raise ValueError(f\"Column '{target}' not found in DataFrame.\")\n",
    "\n",
    "    # Compute correlation with the target variable\n",
    "    correlation_with_target = df.corr(method=method)[target].drop(target)\n",
    "\n",
    "    title = f\"{method.capitalize()} Correlation with {target.capitalize()}\"\n",
    "\n",
    "    # Plot bar chart\n",
    "    plt.figure(figsize=figsize)\n",
    "    correlation_with_target.sort_values().plot(kind='bar', color=color)\n",
    "    plt.title(title, fontsize=14)\n",
    "    plt.ylabel(\"Correlation Coefficient\")\n",
    "    plt.xlabel(\"Features\")\n",
    "    plt.xticks(rotation=45, ha='right')\n",
    "    plt.tight_layout()\n",
    "    plt.show()"
   ]
  },
  {
   "cell_type": "code",
   "execution_count": 33,
   "metadata": {},
   "outputs": [],
   "source": [
    "from scipy.stats import pearsonr, spearmanr, kendalltau\n",
    "\n",
    "def plot_scatter_correlation(df, x_col, y_col, method, figsize=(4, 3), color='red', alpha=0.3):\n",
    "    # Ensure the columns exist\n",
    "    if x_col not in df.columns or y_col not in df.columns:\n",
    "        raise ValueError(f\"Columns '{x_col}' or '{y_col}' not found in DataFrame.\")\n",
    "    \n",
    "        # Compute correlation coefficient\n",
    "    if method == 'pearson':\n",
    "        corr, _ = pearsonr(df[x_col], df[y_col])\n",
    "    elif method == 'spearman':\n",
    "        corr, _ = spearmanr(df[x_col], df[y_col])\n",
    "    elif method == 'kendall':\n",
    "        corr, _ = kendalltau(df[x_col], df[y_col])\n",
    "    else:\n",
    "        raise ValueError(\"Method must be 'pearson', 'spearman', or 'kendall'.\")\n",
    "\n",
    "    # Plot scatter plot with regression line\n",
    "    plt.figure(figsize=figsize)\n",
    "    sns.regplot(x=df[x_col], y=df[y_col], scatter_kws={'alpha': alpha}, line_kws={'color': color})\n",
    "\n",
    "    # Add Titles and Labels\n",
    "    plt.title(f\"{method.capitalize()} Correlation: {corr:.2f}\", fontsize=10)\n",
    "    plt.xlabel(x_col.capitalize())\n",
    "    plt.ylabel(y_col.capitalize())\n",
    "    plt.show()"
   ]
  },
  {
   "cell_type": "markdown",
   "metadata": {},
   "source": [
    "# Classes"
   ]
  },
  {
   "cell_type": "code",
   "execution_count": 34,
   "metadata": {},
   "outputs": [],
   "source": [
    "import warnings\n",
    "import pandas as pd\n",
    "from sklearn.base import BaseEstimator, TransformerMixin\n",
    "\n",
    "# Suppress FutureWarnings\n",
    "warnings.simplefilter(action='ignore', category=FutureWarning)\n",
    "\n",
    "pd.set_option('future.no_silent_downcasting', True)\n",
    "\n",
    "class CustomEncoder(BaseEstimator, TransformerMixin):\n",
    "    def __init__(self, mapping):\n",
    "        self.mapping = mapping\n",
    "\n",
    "    def fit(self, X, y=None):\n",
    "        return self\n",
    "\n",
    "    def transform(self, X):\n",
    "        if not isinstance(X, (pd.Series, pd.DataFrame)):\n",
    "            raise ValueError(\"Input must be a pandas Series or DataFrame.\")\n",
    "        \n",
    "        # If input is a Series, work directly\n",
    "        if isinstance(X, pd.Series):\n",
    "            X_transformed = X.replace(self.mapping)\n",
    "            X_transformed = X_transformed.infer_objects(copy=False)  # Explicit call\n",
    "            return X_transformed.values.reshape(-1, 1)\n",
    "        \n",
    "        # If input is a DataFrame, assume only one column is passed for transformation\n",
    "        if X.shape[1] != 1:\n",
    "            raise ValueError(\"DataFrame input must have exactly one column for this transformer.\")\n",
    "        \n",
    "        column_name = X.columns[0]\n",
    "        X_transformed = X[column_name].replace(self.mapping)\n",
    "        X_transformed = X_transformed.infer_objects(copy=False)  # Explicit call\n",
    "        return X_transformed.values.reshape(-1, 1)\n"
   ]
  },
  {
   "cell_type": "code",
   "execution_count": 35,
   "metadata": {},
   "outputs": [],
   "source": [
    "from sklearn.base import BaseEstimator, TransformerMixin\n",
    "import numpy as np\n",
    "import pandas as pd\n",
    "\n",
    "class AgeBinner(BaseEstimator, TransformerMixin):\n",
    "    def __init__(self, bins=None, labels=None):\n",
    "        self.bins = bins if bins else [0, 22, 26, 30, 40, 60]\n",
    "        self.labels = labels if labels else [\"Teenager (18-21)\", \"Young Adult (22-25)\", \n",
    "                                             \"Early Career (26-29)\", \"Mid-Career (30-39)\", \"Established (40+)\"]\n",
    "\n",
    "    def fit(self, X, y=None):\n",
    "        return self  # No fitting necessary\n",
    "\n",
    "    def transform(self, X):\n",
    "        # Ensure X is a 1D array\n",
    "        if isinstance(X, np.ndarray) and X.ndim > 1:\n",
    "            X = X[:, 0]\n",
    "\n",
    "        # Apply binning using pd.cut\n",
    "        binned_ages = pd.cut(X, bins=self.bins, labels=self.labels, right=False)\n",
    "\n",
    "        # Convert to a NumPy array and reshape to 2D for OneHotEncoder\n",
    "        return np.array(binned_ages).reshape(-1, 1)  \n"
   ]
  },
  {
   "cell_type": "markdown",
   "metadata": {},
   "source": [
    "# Load Data"
   ]
  },
  {
   "cell_type": "code",
   "execution_count": 36,
   "metadata": {},
   "outputs": [
    {
     "data": {
      "text/html": [
       "<div>\n",
       "<style scoped>\n",
       "    .dataframe tbody tr th:only-of-type {\n",
       "        vertical-align: middle;\n",
       "    }\n",
       "\n",
       "    .dataframe tbody tr th {\n",
       "        vertical-align: top;\n",
       "    }\n",
       "\n",
       "    .dataframe thead th {\n",
       "        text-align: right;\n",
       "    }\n",
       "</style>\n",
       "<table border=\"1\" class=\"dataframe\">\n",
       "  <thead>\n",
       "    <tr style=\"text-align: right;\">\n",
       "      <th></th>\n",
       "      <th>id</th>\n",
       "      <th>gender</th>\n",
       "      <th>age</th>\n",
       "      <th>city</th>\n",
       "      <th>prof</th>\n",
       "      <th>acad_press</th>\n",
       "      <th>work_press</th>\n",
       "      <th>cgpa</th>\n",
       "      <th>study_sat</th>\n",
       "      <th>job_sat</th>\n",
       "      <th>sleep_dur</th>\n",
       "      <th>diet_habits</th>\n",
       "      <th>degree</th>\n",
       "      <th>suicidal_thoughts</th>\n",
       "      <th>work_hours</th>\n",
       "      <th>fin_stress</th>\n",
       "      <th>fam_hist_mental</th>\n",
       "      <th>depression</th>\n",
       "    </tr>\n",
       "  </thead>\n",
       "  <tbody>\n",
       "    <tr>\n",
       "      <th>0</th>\n",
       "      <td>2</td>\n",
       "      <td>Male</td>\n",
       "      <td>33.0</td>\n",
       "      <td>Visakhapatnam</td>\n",
       "      <td>Student</td>\n",
       "      <td>5.0</td>\n",
       "      <td>0.0</td>\n",
       "      <td>8.97</td>\n",
       "      <td>2.0</td>\n",
       "      <td>0.0</td>\n",
       "      <td>5-6 hours</td>\n",
       "      <td>Healthy</td>\n",
       "      <td>B.Pharm</td>\n",
       "      <td>Yes</td>\n",
       "      <td>3.0</td>\n",
       "      <td>1.0</td>\n",
       "      <td>No</td>\n",
       "      <td>1</td>\n",
       "    </tr>\n",
       "    <tr>\n",
       "      <th>1</th>\n",
       "      <td>8</td>\n",
       "      <td>Female</td>\n",
       "      <td>24.0</td>\n",
       "      <td>Bangalore</td>\n",
       "      <td>Student</td>\n",
       "      <td>2.0</td>\n",
       "      <td>0.0</td>\n",
       "      <td>5.90</td>\n",
       "      <td>5.0</td>\n",
       "      <td>0.0</td>\n",
       "      <td>5-6 hours</td>\n",
       "      <td>Moderate</td>\n",
       "      <td>BSc</td>\n",
       "      <td>No</td>\n",
       "      <td>3.0</td>\n",
       "      <td>2.0</td>\n",
       "      <td>Yes</td>\n",
       "      <td>0</td>\n",
       "    </tr>\n",
       "    <tr>\n",
       "      <th>2</th>\n",
       "      <td>26</td>\n",
       "      <td>Male</td>\n",
       "      <td>31.0</td>\n",
       "      <td>Srinagar</td>\n",
       "      <td>Student</td>\n",
       "      <td>3.0</td>\n",
       "      <td>0.0</td>\n",
       "      <td>7.03</td>\n",
       "      <td>5.0</td>\n",
       "      <td>0.0</td>\n",
       "      <td>Less than 5 hours</td>\n",
       "      <td>Healthy</td>\n",
       "      <td>BA</td>\n",
       "      <td>No</td>\n",
       "      <td>9.0</td>\n",
       "      <td>1.0</td>\n",
       "      <td>Yes</td>\n",
       "      <td>0</td>\n",
       "    </tr>\n",
       "    <tr>\n",
       "      <th>3</th>\n",
       "      <td>30</td>\n",
       "      <td>Female</td>\n",
       "      <td>28.0</td>\n",
       "      <td>Varanasi</td>\n",
       "      <td>Student</td>\n",
       "      <td>3.0</td>\n",
       "      <td>0.0</td>\n",
       "      <td>5.59</td>\n",
       "      <td>2.0</td>\n",
       "      <td>0.0</td>\n",
       "      <td>7-8 hours</td>\n",
       "      <td>Moderate</td>\n",
       "      <td>BCA</td>\n",
       "      <td>Yes</td>\n",
       "      <td>4.0</td>\n",
       "      <td>5.0</td>\n",
       "      <td>Yes</td>\n",
       "      <td>1</td>\n",
       "    </tr>\n",
       "  </tbody>\n",
       "</table>\n",
       "</div>"
      ],
      "text/plain": [
       "   id  gender   age           city     prof  acad_press  work_press  cgpa  \\\n",
       "0   2    Male  33.0  Visakhapatnam  Student         5.0         0.0  8.97   \n",
       "1   8  Female  24.0      Bangalore  Student         2.0         0.0  5.90   \n",
       "2  26    Male  31.0       Srinagar  Student         3.0         0.0  7.03   \n",
       "3  30  Female  28.0       Varanasi  Student         3.0         0.0  5.59   \n",
       "\n",
       "   study_sat  job_sat          sleep_dur diet_habits   degree  \\\n",
       "0        2.0      0.0          5-6 hours     Healthy  B.Pharm   \n",
       "1        5.0      0.0          5-6 hours    Moderate      BSc   \n",
       "2        5.0      0.0  Less than 5 hours     Healthy       BA   \n",
       "3        2.0      0.0          7-8 hours    Moderate      BCA   \n",
       "\n",
       "  suicidal_thoughts  work_hours fin_stress fam_hist_mental  depression  \n",
       "0               Yes         3.0        1.0              No           1  \n",
       "1                No         3.0        2.0             Yes           0  \n",
       "2                No         9.0        1.0             Yes           0  \n",
       "3               Yes         4.0        5.0             Yes           1  "
      ]
     },
     "execution_count": 36,
     "metadata": {},
     "output_type": "execute_result"
    }
   ],
   "source": [
    "file_path = r\"./Student Depression Dataset.csv\"\n",
    "dataframe = pd.read_csv(file_path)\n",
    "\n",
    "# Define a dictionary to map old column names to new, shorter, lowercase names\n",
    "column_mapping = {\n",
    "    'id': 'id',\n",
    "    'Gender': 'gender',\n",
    "    'Age': 'age',\n",
    "    'City': 'city',\n",
    "    'Profession': 'prof',\n",
    "    'Academic Pressure': 'acad_press',\n",
    "    'Work Pressure': 'work_press',\n",
    "    'CGPA': 'cgpa',\n",
    "    'Study Satisfaction': 'study_sat',\n",
    "    'Job Satisfaction': 'job_sat',\n",
    "    'Sleep Duration': 'sleep_dur',\n",
    "    'Dietary Habits': 'diet_habits',\n",
    "    'Degree': 'degree',\n",
    "    'Have you ever had suicidal thoughts ?': 'suicidal_thoughts',\n",
    "    'Work/Study Hours': 'work_hours',\n",
    "    'Financial Stress': 'fin_stress',\n",
    "    'Family History of Mental Illness': 'fam_hist_mental',\n",
    "    'Depression': 'depression'\n",
    "}\n",
    "# Remove extra spaces from all columns in the DataFrame\n",
    "dataframe = dataframe.applymap(lambda x: x.strip() if isinstance(x, str) else x)\n",
    "\n",
    "dataframe.columns = dataframe.columns.str.strip()  # Strips leading and trailing\n",
    "initial_size = dataframe.shape[0]\n",
    "dataframe.rename(columns=column_mapping, inplace=True)\n",
    "dataframe.head(4)"
   ]
  },
  {
   "cell_type": "markdown",
   "metadata": {},
   "source": [
    "# Stratified Shuffle Split"
   ]
  },
  {
   "cell_type": "code",
   "execution_count": 37,
   "metadata": {},
   "outputs": [],
   "source": [
    "from sklearn.model_selection import StratifiedShuffleSplit\n",
    "\n",
    "# Define the target variable\n",
    "target_column = 'depression'\n",
    "\n",
    "# Create a stratification column combining categorical features (excluding the target)\n",
    "strat_columns = ['gender', 'suicidal_thoughts', 'fam_hist_mental']\n",
    "dataframe['stratify_column'] = dataframe[strat_columns].astype(str).agg('_'.join, axis=1)\n",
    "\n",
    "# Stratified Shuffle Split\n",
    "split = StratifiedShuffleSplit(n_splits=1, test_size=0.2, random_state=42)\n",
    "\n",
    "for train_index, test_index in split.split(dataframe, dataframe['stratify_column']):\n",
    "    train_set = dataframe.iloc[train_index].copy()\n",
    "    test_set = dataframe.iloc[test_index].copy()\n",
    "\n",
    "# Drop the stratification column\n",
    "train_set.drop(columns=['stratify_column'], inplace=True)\n",
    "test_set.drop(columns=['stratify_column'], inplace=True)\n",
    "\n",
    "# Separate features (X) and target (y)\n",
    "X_train = train_set.drop(columns=[target_column])  # All columns except target\n",
    "y_train = train_set[target_column]  # Only the target column\n",
    "\n",
    "X_test = test_set.drop(columns=[target_column])\n",
    "y_test = test_set[target_column]\n",
    "\n",
    "dep = train_set.copy()"
   ]
  },
  {
   "cell_type": "markdown",
   "metadata": {},
   "source": [
    "# Encode Data"
   ]
  },
  {
   "cell_type": "markdown",
   "metadata": {},
   "source": [
    "## Encode Gender"
   ]
  },
  {
   "cell_type": "code",
   "execution_count": 38,
   "metadata": {},
   "outputs": [
    {
     "data": {
      "text/plain": [
       "gender\n",
       "2    12437\n",
       "3     9883\n",
       "Name: count, dtype: int64"
      ]
     },
     "execution_count": 38,
     "metadata": {},
     "output_type": "execute_result"
    }
   ],
   "source": [
    "gender_mapping = {\n",
    "    'Male': 2,\n",
    "    'Female': 3\n",
    "}\n",
    "\n",
    "dep['gender'] = dep['gender'].replace(gender_mapping)\n",
    "dep['gender'].value_counts()"
   ]
  },
  {
   "cell_type": "markdown",
   "metadata": {},
   "source": [
    "## Ecnode Sleep"
   ]
  },
  {
   "cell_type": "code",
   "execution_count": 39,
   "metadata": {},
   "outputs": [
    {
     "data": {
      "text/plain": [
       "sleep_dur\n",
       "Less than 5 hours    6628\n",
       "7-8 hours            5935\n",
       "5-6 hours            4909\n",
       "More than 8 hours    4831\n",
       "Others                 17\n",
       "Name: count, dtype: int64"
      ]
     },
     "execution_count": 39,
     "metadata": {},
     "output_type": "execute_result"
    }
   ],
   "source": [
    "dep['sleep_dur'].value_counts()"
   ]
  },
  {
   "cell_type": "code",
   "execution_count": 40,
   "metadata": {},
   "outputs": [
    {
     "data": {
      "text/plain": [
       "sleep_dur\n",
       "2    6628\n",
       "4    5935\n",
       "3    4909\n",
       "5    4831\n",
       "6      17\n",
       "Name: count, dtype: int64"
      ]
     },
     "execution_count": 40,
     "metadata": {},
     "output_type": "execute_result"
    }
   ],
   "source": [
    "sleep_dur_mapping = {\n",
    "    'Less than 5 hours': 2,\n",
    "    '5-6 hours': 3,\n",
    "    '7-8 hours': 4,\n",
    "    'More than 8 hours': 5,\n",
    "    'Others': 6\n",
    "}\n",
    "\n",
    "dep['sleep_dur'] = dep['sleep_dur'].replace(sleep_dur_mapping)\n",
    "dep['sleep_dur'].value_counts()"
   ]
  },
  {
   "cell_type": "markdown",
   "metadata": {},
   "source": [
    "## Encode Dietary Habits"
   ]
  },
  {
   "cell_type": "code",
   "execution_count": 41,
   "metadata": {},
   "outputs": [
    {
     "data": {
      "text/plain": [
       "diet_habits\n",
       "Unhealthy    8278\n",
       "Moderate     7957\n",
       "Healthy      6075\n",
       "Others         10\n",
       "Name: count, dtype: int64"
      ]
     },
     "execution_count": 41,
     "metadata": {},
     "output_type": "execute_result"
    }
   ],
   "source": [
    "dep['diet_habits'].value_counts()"
   ]
  },
  {
   "cell_type": "code",
   "execution_count": 42,
   "metadata": {},
   "outputs": [
    {
     "data": {
      "text/plain": [
       "diet_habits\n",
       "2    8278\n",
       "3    7957\n",
       "4    6075\n",
       "5      10\n",
       "Name: count, dtype: int64"
      ]
     },
     "execution_count": 42,
     "metadata": {},
     "output_type": "execute_result"
    }
   ],
   "source": [
    "diet_habits_mapping = {\n",
    "    'Unhealthy' : 2,\n",
    "    'Moderate' : 3,\n",
    "    'Healthy' : 4,\n",
    "    'Others': 5\n",
    "}\n",
    "\n",
    "dep['diet_habits'] = dep['diet_habits'].replace(diet_habits_mapping)\n",
    "dep = dep.drop(dep[dep['diet_habits'] == 'Others'].index) \n",
    "dep['diet_habits'].value_counts()"
   ]
  },
  {
   "cell_type": "markdown",
   "metadata": {},
   "source": [
    "## Encode Suicidal Thoughts"
   ]
  },
  {
   "cell_type": "code",
   "execution_count": 43,
   "metadata": {},
   "outputs": [
    {
     "data": {
      "text/plain": [
       "suicidal_thoughts\n",
       "1    14125\n",
       "0     8195\n",
       "Name: count, dtype: int64"
      ]
     },
     "execution_count": 43,
     "metadata": {},
     "output_type": "execute_result"
    }
   ],
   "source": [
    "suicidal_thoughts_mapping = {\n",
    "    'Yes' : 1,\n",
    "    'No' : 0\n",
    "}\n",
    "\n",
    "dep['suicidal_thoughts'] = dep['suicidal_thoughts'].replace(suicidal_thoughts_mapping)\n",
    "dep = dep.drop(dep[dep['suicidal_thoughts'] == 'Others'].index) # Remove all non students \n",
    "dep['suicidal_thoughts'].value_counts()"
   ]
  },
  {
   "cell_type": "markdown",
   "metadata": {},
   "source": [
    "## Encode Financial Stress"
   ]
  },
  {
   "cell_type": "code",
   "execution_count": 44,
   "metadata": {},
   "outputs": [],
   "source": [
    "dep['fin_stress'] = pd.to_numeric(dep['fin_stress'], errors='coerce')  # Convert to numeric, setting invalid parsing to NaN\n",
    "dep['fin_stress'] = dep['fin_stress'].fillna(0).astype(int)  # Fill NaN with 0 and convert to int"
   ]
  },
  {
   "cell_type": "markdown",
   "metadata": {},
   "source": [
    "## Encode Family History of Mental Illness"
   ]
  },
  {
   "cell_type": "code",
   "execution_count": 45,
   "metadata": {},
   "outputs": [
    {
     "data": {
      "text/plain": [
       "fam_hist_mental\n",
       "0    11518\n",
       "1    10802\n",
       "Name: count, dtype: int64"
      ]
     },
     "execution_count": 45,
     "metadata": {},
     "output_type": "execute_result"
    }
   ],
   "source": [
    "fam_hist_mental_mapping = {\n",
    "    'Yes' : 1,\n",
    "    'No' : 0\n",
    "}\n",
    "\n",
    "dep['fam_hist_mental'] = dep['fam_hist_mental'].replace(fam_hist_mental_mapping)\n",
    "dep = dep.drop(dep[dep['fam_hist_mental'] == 'Others'].index) # Remove all non students \n",
    "dep['fam_hist_mental'].value_counts()"
   ]
  },
  {
   "cell_type": "code",
   "execution_count": 46,
   "metadata": {},
   "outputs": [],
   "source": [
    "depression_mapping = {\n",
    "    'Yes' : 1,\n",
    "    'No' : 0\n",
    "}"
   ]
  },
  {
   "cell_type": "markdown",
   "metadata": {},
   "source": []
  },
  {
   "cell_type": "markdown",
   "metadata": {},
   "source": [
    "# Data prepossessing and cleaning"
   ]
  },
  {
   "cell_type": "markdown",
   "metadata": {},
   "source": [
    "## Remove all non students"
   ]
  },
  {
   "cell_type": "code",
   "execution_count": 47,
   "metadata": {},
   "outputs": [
    {
     "data": {
      "text/plain": [
       "prof\n",
       "Student                   22296\n",
       "Architect                     7\n",
       "Teacher                       4\n",
       "Digital Marketer              3\n",
       "Pharmacist                    2\n",
       "Chef                          2\n",
       "Entrepreneur                  1\n",
       "Content Writer                1\n",
       "Doctor                        1\n",
       "Educational Consultant        1\n",
       "Civil Engineer                1\n",
       "UX/UI Designer                1\n",
       "Name: count, dtype: int64"
      ]
     },
     "execution_count": 47,
     "metadata": {},
     "output_type": "execute_result"
    }
   ],
   "source": [
    "dep['prof'].value_counts()"
   ]
  },
  {
   "cell_type": "code",
   "execution_count": 48,
   "metadata": {},
   "outputs": [
    {
     "data": {
      "text/plain": [
       "prof\n",
       "Student    22296\n",
       "Name: count, dtype: int64"
      ]
     },
     "execution_count": 48,
     "metadata": {},
     "output_type": "execute_result"
    }
   ],
   "source": [
    "dep.loc[dep['prof'] != 'Student', 'prof'] = None\n",
    "dep['prof'].value_counts()"
   ]
  },
  {
   "cell_type": "markdown",
   "metadata": {},
   "source": [
    "## Drop city, degree, prof and job satisfaction"
   ]
  },
  {
   "cell_type": "code",
   "execution_count": 49,
   "metadata": {},
   "outputs": [
    {
     "data": {
      "text/html": [
       "<div>\n",
       "<style scoped>\n",
       "    .dataframe tbody tr th:only-of-type {\n",
       "        vertical-align: middle;\n",
       "    }\n",
       "\n",
       "    .dataframe tbody tr th {\n",
       "        vertical-align: top;\n",
       "    }\n",
       "\n",
       "    .dataframe thead th {\n",
       "        text-align: right;\n",
       "    }\n",
       "</style>\n",
       "<table border=\"1\" class=\"dataframe\">\n",
       "  <thead>\n",
       "    <tr style=\"text-align: right;\">\n",
       "      <th></th>\n",
       "      <th>id</th>\n",
       "      <th>gender</th>\n",
       "      <th>age</th>\n",
       "      <th>acad_press</th>\n",
       "      <th>work_press</th>\n",
       "      <th>cgpa</th>\n",
       "      <th>study_sat</th>\n",
       "      <th>sleep_dur</th>\n",
       "      <th>diet_habits</th>\n",
       "      <th>suicidal_thoughts</th>\n",
       "      <th>work_hours</th>\n",
       "      <th>fin_stress</th>\n",
       "      <th>fam_hist_mental</th>\n",
       "      <th>depression</th>\n",
       "    </tr>\n",
       "  </thead>\n",
       "  <tbody>\n",
       "    <tr>\n",
       "      <th>12887</th>\n",
       "      <td>65253</td>\n",
       "      <td>2</td>\n",
       "      <td>34.0</td>\n",
       "      <td>3.0</td>\n",
       "      <td>0.0</td>\n",
       "      <td>6.78</td>\n",
       "      <td>5.0</td>\n",
       "      <td>5</td>\n",
       "      <td>3</td>\n",
       "      <td>0</td>\n",
       "      <td>3.0</td>\n",
       "      <td>3</td>\n",
       "      <td>1</td>\n",
       "      <td>0</td>\n",
       "    </tr>\n",
       "    <tr>\n",
       "      <th>15949</th>\n",
       "      <td>80615</td>\n",
       "      <td>3</td>\n",
       "      <td>26.0</td>\n",
       "      <td>5.0</td>\n",
       "      <td>0.0</td>\n",
       "      <td>6.59</td>\n",
       "      <td>2.0</td>\n",
       "      <td>5</td>\n",
       "      <td>2</td>\n",
       "      <td>1</td>\n",
       "      <td>4.0</td>\n",
       "      <td>5</td>\n",
       "      <td>0</td>\n",
       "      <td>1</td>\n",
       "    </tr>\n",
       "    <tr>\n",
       "      <th>13506</th>\n",
       "      <td>68473</td>\n",
       "      <td>2</td>\n",
       "      <td>20.0</td>\n",
       "      <td>3.0</td>\n",
       "      <td>0.0</td>\n",
       "      <td>9.90</td>\n",
       "      <td>4.0</td>\n",
       "      <td>3</td>\n",
       "      <td>3</td>\n",
       "      <td>1</td>\n",
       "      <td>8.0</td>\n",
       "      <td>5</td>\n",
       "      <td>0</td>\n",
       "      <td>1</td>\n",
       "    </tr>\n",
       "    <tr>\n",
       "      <th>20177</th>\n",
       "      <td>102163</td>\n",
       "      <td>2</td>\n",
       "      <td>25.0</td>\n",
       "      <td>5.0</td>\n",
       "      <td>0.0</td>\n",
       "      <td>6.44</td>\n",
       "      <td>1.0</td>\n",
       "      <td>3</td>\n",
       "      <td>2</td>\n",
       "      <td>1</td>\n",
       "      <td>10.0</td>\n",
       "      <td>5</td>\n",
       "      <td>0</td>\n",
       "      <td>1</td>\n",
       "    </tr>\n",
       "    <tr>\n",
       "      <th>26728</th>\n",
       "      <td>134874</td>\n",
       "      <td>2</td>\n",
       "      <td>32.0</td>\n",
       "      <td>3.0</td>\n",
       "      <td>0.0</td>\n",
       "      <td>5.16</td>\n",
       "      <td>1.0</td>\n",
       "      <td>5</td>\n",
       "      <td>2</td>\n",
       "      <td>1</td>\n",
       "      <td>0.0</td>\n",
       "      <td>4</td>\n",
       "      <td>1</td>\n",
       "      <td>0</td>\n",
       "    </tr>\n",
       "  </tbody>\n",
       "</table>\n",
       "</div>"
      ],
      "text/plain": [
       "           id gender   age  acad_press  work_press  cgpa  study_sat sleep_dur  \\\n",
       "12887   65253      2  34.0         3.0         0.0  6.78        5.0         5   \n",
       "15949   80615      3  26.0         5.0         0.0  6.59        2.0         5   \n",
       "13506   68473      2  20.0         3.0         0.0  9.90        4.0         3   \n",
       "20177  102163      2  25.0         5.0         0.0  6.44        1.0         3   \n",
       "26728  134874      2  32.0         3.0         0.0  5.16        1.0         5   \n",
       "\n",
       "      diet_habits suicidal_thoughts  work_hours  fin_stress fam_hist_mental  \\\n",
       "12887           3                 0         3.0           3               1   \n",
       "15949           2                 1         4.0           5               0   \n",
       "13506           3                 1         8.0           5               0   \n",
       "20177           2                 1        10.0           5               0   \n",
       "26728           2                 1         0.0           4               1   \n",
       "\n",
       "       depression  \n",
       "12887           0  \n",
       "15949           1  \n",
       "13506           1  \n",
       "20177           1  \n",
       "26728           0  "
      ]
     },
     "execution_count": 49,
     "metadata": {},
     "output_type": "execute_result"
    }
   ],
   "source": [
    "dep.drop(columns=['city', 'degree', 'prof','job_sat'], inplace=True)\n",
    "dep.head()"
   ]
  },
  {
   "cell_type": "markdown",
   "metadata": {},
   "source": [
    "# Data Pipeline"
   ]
  },
  {
   "cell_type": "code",
   "execution_count": 50,
   "metadata": {},
   "outputs": [],
   "source": [
    "from sklearn.pipeline import Pipeline\n",
    "from sklearn.impute import SimpleImputer\n",
    "from sklearn.preprocessing import StandardScaler, MinMaxScaler, OneHotEncoder\n",
    "from sklearn.compose import ColumnTransformer\n",
    "\n",
    "# Numerical Features (excluding 'age' since it will be binned)\n",
    "numerical_features = ['acad_press', 'cgpa', 'study_sat']\n",
    "\n",
    "# Age Feature (separate handling)\n",
    "age_feature = ['age']\n",
    "\n",
    "# Categorical Features (excluding 'sleep_dur' and 'diet_habits' since they will be One-Hot Encoded separately)\n",
    "categorical_features = ['gender', 'suicidal_thoughts', 'fam_hist_mental', 'sleep_dur', 'diet_habits']\n",
    "\n",
    "# Pipeline for Age Binning + One-Hot Encoding\n",
    "age_pipeline = Pipeline([\n",
    "    ('imputer', SimpleImputer(strategy='mean')),            # Handle missing values\n",
    "    ('binner', AgeBinner()),                                # Convert age to bins\n",
    "    ('encoder', OneHotEncoder(handle_unknown='ignore'))     # One-hot encode age bins\n",
    "])\n",
    "\n",
    "# Pipeline for Numerical Features\n",
    "numerical_pipeline = Pipeline([\n",
    "    ('imputer', SimpleImputer(strategy='mean')),    # Handle missing values\n",
    "    ('scaler', MinMaxScaler())                      # Standardize numerical data\n",
    "])\n",
    "\n",
    "# Pipeline for One-Hot Encoding of 'sleep_dur' and 'diet_habits'\n",
    "one_hot_pipeline = ColumnTransformer([\n",
    "    ('gender', OneHotEncoder(handle_unknown='ignore'), ['gender']),\n",
    "    ('suicidal_thoughts', OneHotEncoder(handle_unknown='ignore'), ['suicidal_thoughts']),\n",
    "    ('fam_hist_mental', OneHotEncoder(handle_unknown='ignore'), ['fam_hist_mental']),\n",
    "    ('sleep_dur', OneHotEncoder(handle_unknown='ignore'), ['sleep_dur']),\n",
    "    ('diet_habits', OneHotEncoder(handle_unknown='ignore'), ['diet_habits'])\n",
    "])\n",
    "\n",
    "# Combine into Full Pipeline\n",
    "full_pipeline = ColumnTransformer([\n",
    "    ('age', age_pipeline, age_feature),                     # Age is now categorical and One-Hot Encoded\n",
    "    ('num', numerical_pipeline, numerical_features),        # Numerical processing\n",
    "    ('one_hot', one_hot_pipeline, categorical_features)     # One-Hot Encoding\n",
    "])\n"
   ]
  },
  {
   "cell_type": "code",
   "execution_count": 51,
   "metadata": {},
   "outputs": [],
   "source": [
    "# Apply the pipeline to the training and testing sets\n",
    "X_train_prepared = full_pipeline.fit_transform(X_train)\n",
    "X_test_prepared = full_pipeline.transform(X_test)"
   ]
  },
  {
   "cell_type": "markdown",
   "metadata": {},
   "source": [
    "# Logistic Regression"
   ]
  },
  {
   "cell_type": "markdown",
   "metadata": {},
   "source": [
    "## Grid search"
   ]
  },
  {
   "cell_type": "code",
   "execution_count": null,
   "metadata": {},
   "outputs": [],
   "source": [
    "from sklearn.model_selection import GridSearchCV\n",
    "from sklearn.linear_model import LogisticRegression\n",
    "from sklearn.metrics import make_scorer, fbeta_score\n",
    "\n",
    "# Create a custom scorer for F2-score\n",
    "f2_scorer = make_scorer(fbeta_score, beta=2)\n",
    "\n",
    "# Define solver-penalty-multiclass compatibility\n",
    "param_grid = [\n",
    "    {'C': [0.001, 0.01, 0.1, 1, 10], \n",
    "     'penalty': ['l2', None], \n",
    "     'solver': ['lbfgs', 'newton-cg', 'newton-cholesky', 'multinomial'], \n",
    "     'multi_class': ['multinomial'], \n",
    "     'max_iter': [40, 50, 60], \n",
    "     'class_weight': [None, 'balanced']},\n",
    "\n",
    "    {'C': [0.001, 0.01, 0.1, 1, 10], \n",
    "     'penalty': ['l1', 'l2'], \n",
    "     'solver': ['liblinear'], \n",
    "     'multi_class': ['ovr'],  # liblinear does not support multinomial\n",
    "     'max_iter': [40, 50, 60], \n",
    "     'class_weight': [None, 'balanced']},\n",
    "\n",
    "    {'C': [0.001, 0.01, 0.1, 1, 10], \n",
    "     'penalty': ['elasticnet', 'l1', 'l2', None], \n",
    "     'solver': ['saga'], \n",
    "     'multi_class': ['multinomial'], \n",
    "     'l1_ratio': [0.1, 0.5, 0.9],  # Only used for ElasticNet\n",
    "     'max_iter': [40, 50, 60], \n",
    "     'class_weight': [None, 'balanced']}\n",
    "]\n",
    "\n",
    "# Initialize logistic regression\n",
    "log_reg = LogisticRegression(random_state=42)\n",
    "\n",
    "# Set up Grid Search with F2-score as the metric and 10-fold CV\n",
    "grid_search = GridSearchCV(\n",
    "    log_reg,\n",
    "    param_grid,\n",
    "    cv=10,  # 10-fold cross-validation\n",
    "    scoring=f2_scorer,  # Custom F2-score metric\n",
    "    n_jobs=-1,  # Use all CPU cores for speed\n",
    "    verbose=0\n",
    ")\n",
    "\n",
    "# Fit the model\n",
    "grid_search.fit(X_train_prepared, y_train)"
   ]
  },
  {
   "cell_type": "code",
   "execution_count": 53,
   "metadata": {},
   "outputs": [
    {
     "name": "stdout",
     "output_type": "stream",
     "text": [
      "Best Parameters: {'C': 0.01, 'class_weight': None, 'max_iter': 40, 'multi_class': 'ovr', 'penalty': 'l1', 'solver': 'liblinear'}\n"
     ]
    }
   ],
   "source": [
    "# Get the best parameters and model\n",
    "best_params = grid_search.best_params_\n",
    "best_model = grid_search.best_estimator_\n",
    "\n",
    "print(\"Best Parameters:\", best_params)\n"
   ]
  },
  {
   "cell_type": "markdown",
   "metadata": {},
   "source": [
    "## Overfitting and Underfitting Visualization\n"
   ]
  },
  {
   "cell_type": "code",
   "execution_count": null,
   "metadata": {},
   "outputs": [],
   "source": [
    "import numpy as np\n",
    "import matplotlib.pyplot as plt\n",
    "from sklearn.linear_model import LogisticRegression\n",
    "from sklearn.metrics import fbeta_score, make_scorer\n",
    "from sklearn.model_selection import cross_val_score\n",
    "\n",
    "# Create a custom scorer for F2-score\n",
    "f2_scorer = make_scorer(fbeta_score, beta=2)\n",
    "\n",
    "# Define different values of C (inverse of regularization strength)\n",
    "C_values = np.logspace(-2, 3, 10)  \n",
    "\n",
    "# Lists to store mean F2-scores\n",
    "f2_train_scores = []\n",
    "f2_test_scores = []\n",
    "\n",
    "# Perform cross-validation for different C values\n",
    "for C in C_values:\n",
    "    log_reg = LogisticRegression(C=C, solver='liblinear', penalty='l1', multi_class='ovr', n_jobs=-1, verbose=0)  # 'liblinear' supports small datasets\n",
    "\n",
    "    # Cross-validation for training and test sets\n",
    "    f2_train = cross_val_score(log_reg, X_train_prepared, y_train, cv=10, scoring=f2_scorer, n_jobs=-1, verbose=0).mean()\n",
    "    f2_test = cross_val_score(log_reg, X_test_prepared, y_test, cv=10, scoring=f2_scorer, n_jobs=-1, verbose=0).mean()\n",
    "\n",
    "    # Store results\n",
    "    f2_train_scores.append(f2_train)\n",
    "    f2_test_scores.append(f2_test)"
   ]
  },
  {
   "cell_type": "code",
   "execution_count": 55,
   "metadata": {},
   "outputs": [
    {
     "data": {
      "image/png": "[encoded data removed]",
      "text/plain": [
       "<Figure size 800x500 with 1 Axes>"
      ]
     },
     "metadata": {},
     "output_type": "display_data"
    },
    {
     "name": "stdout",
     "output_type": "stream",
     "text": [
      "Train & Test F2 Score diifernce:\n",
      "Train set F1 scrore: 0.86651923\n",
      "Test set F1 scrore: 0.86846087\n",
      "Absolute Difference: -0.00194164\n",
      "Percentage Difference: -0.22%\n"
     ]
    }
   ],
   "source": [
    "# Plot the results\n",
    "plt.figure(figsize=(8, 5))\n",
    "plt.plot(C_values, f2_train_scores, marker='o', color='blue', label='Train F2 Score (CV=10)')\n",
    "plt.plot(C_values, f2_test_scores, marker='o', color='orange', label='Test F2 Score (CV=10)')\n",
    "\n",
    "# Log scale for x-axis\n",
    "plt.xscale(\"log\")\n",
    "\n",
    "# Labels and Title\n",
    "plt.xlabel(\"Regularization Strength (C)\")\n",
    "plt.ylabel(\"F2 Score\")\n",
    "plt.title(\"Effect of Regularization Strength on F2 Score (10-Fold CV)\")\n",
    "\n",
    "# Grid and Legend\n",
    "plt.grid(True, which=\"both\", linestyle=\"--\", linewidth=0.5)\n",
    "plt.legend()\n",
    "\n",
    "# Show the plot\n",
    "plt.show()\n",
    "\n",
    "# Find index where C = 1000\n",
    "c_index = np.where(C_values == 1000)[0][0]\n",
    "\n",
    "# Retrieve train and test F2-score at C = 1000\n",
    "train_f2_at_1000 = f2_train_scores[c_index]\n",
    "test_f2_at_1000 = f2_test_scores[c_index]\n",
    "\n",
    "# Compute absolute and percentage difference\n",
    "absolute_difference = train_f2_at_1000 - test_f2_at_1000\n",
    "percentage_difference = (absolute_difference / train_f2_at_1000) * 100\n",
    "\n",
    "# Print the results\n",
    "\n",
    "print(f\"Train & Test F2 Score diifernce:\")\n",
    "print(f\"Train set F1 scrore: {train_f2_at_1000:.8f}\")\n",
    "print(f\"Test set F1 scrore: {test_f2_at_1000:.8f}\")\n",
    "print(f\"Absolute Difference: {absolute_difference:.8f}\")\n",
    "print(f\"Percentage Difference: {percentage_difference:.2f}%\")"
   ]
  },
  {
   "cell_type": "markdown",
   "metadata": {},
   "source": [
    "## Confusion Matrix"
   ]
  },
  {
   "cell_type": "code",
   "execution_count": 56,
   "metadata": {},
   "outputs": [
    {
     "data": {
      "image/png": "[encoded data removed]",
      "text/plain": [
       "<Figure size 600x500 with 2 Axes>"
      ]
     },
     "metadata": {},
     "output_type": "display_data"
    }
   ],
   "source": [
    "import matplotlib.pyplot as plt\n",
    "import seaborn as sns\n",
    "from sklearn.metrics import confusion_matrix\n",
    "\n",
    "# Predict on the test set\n",
    "y_test_pred = best_model.predict(X_test_prepared)\n",
    "\n",
    "# Compute confusion matrix\n",
    "cm = confusion_matrix(y_test, y_test_pred)\n",
    "\n",
    "# Plot confusion matrix\n",
    "plt.figure(figsize=(6,5))\n",
    "sns.heatmap(cm, annot=True, fmt='d', cmap='Blues', xticklabels=[\"Negative\", \"Positive\"], yticklabels=[\"Negative\", \"Positive\"])\n",
    "plt.xlabel(\"Predicted\")\n",
    "plt.ylabel(\"Actual\")\n",
    "plt.title(\"Confusion Matrix (Test Set)\")\n",
    "plt.show()\n"
   ]
  },
  {
   "cell_type": "markdown",
   "metadata": {},
   "source": [
    "## Feature Importance Coefficients in Logistic Regression"
   ]
  },
  {
   "cell_type": "code",
   "execution_count": 57,
   "metadata": {},
   "outputs": [],
   "source": [
    "import numpy as np\n",
    "import pandas as pd\n",
    "import matplotlib.pyplot as plt\n",
    "\n",
    "# Extract the best model from GridSearchCV\n",
    "best_model = grid_search.best_estimator_\n",
    "\n",
    "# Get feature names (if X_train_prepared is a DataFrame)\n",
    "feature_names = X_train_prepared.columns if isinstance(X_train_prepared, pd.DataFrame) else [f\"Feature_{i}\" for i in range(X_train_prepared.shape[1])]\n",
    "\n",
    "# Get coefficients\n",
    "coefficients = best_model.coef_.flatten()\n",
    "\n",
    "# Create a DataFrame for visualization\n",
    "coef_df = pd.DataFrame({\"Feature\": feature_names, \"Coefficient\": coefficients})\n",
    "\n",
    "# Sort by absolute coefficient value\n",
    "coef_df = coef_df.reindex(coef_df[\"Coefficient\"].abs().sort_values(ascending=False).index)\n",
    "\n",
    "age_features = [\"18-21\", \"22-25\", \"26-29\", \"30-39\", \"40+\"]  # Adjust as needed\n",
    "\n",
    "one_hot_encoder = OneHotEncoder(handle_unknown='ignore', drop=None)\n",
    "one_hot_encoder.fit(X_train[categorical_features])  # Replace `df` with your actual DataFrame\n",
    "\n",
    "one_hot_feature_names = one_hot_encoder.get_feature_names_out(categorical_features)\n",
    "\n",
    "transformed_feature_names = (\n",
    "    age_features +  # Adjust based on AgeBinner bins\n",
    "    numerical_features +  # ['acad_press', 'cgpa', 'study_sat']\n",
    "    list(one_hot_feature_names)  # One-hot encoded feature names\n",
    ")\n",
    "\n",
    "feature_importance = pd.DataFrame({\n",
    "    'Feature': transformed_feature_names,\n",
    "    'Coefficient': best_model.coef_[0]  # Assuming binary classification\n",
    "})\n",
    "\n",
    "feature_importance = feature_importance.sort_values(by='Coefficient', key=abs, ascending=False)\n",
    "\n"
   ]
  },
  {
   "cell_type": "code",
   "execution_count": 58,
   "metadata": {},
   "outputs": [
    {
     "data": {
      "image/png": "[encoded data removed]",
      "text/plain": [
       "<Figure size 500x500 with 1 Axes>"
      ]
     },
     "metadata": {},
     "output_type": "display_data"
    }
   ],
   "source": [
    "import matplotlib.pyplot as plt\n",
    "\n",
    "\n",
    "# Filter out features with coefficients equal to 0\n",
    "filtered_feature_importance = feature_importance[abs(feature_importance['Coefficient']) != 0]\n",
    "\n",
    "plt.figure(figsize=(5, 5))  # Adjust figure size for readability\n",
    "\n",
    "# Define colors: Red for negative, Blue for positive coefficients\n",
    "colors = ['red' if coef < 0 else 'blue' for coef in filtered_feature_importance['Coefficient']]\n",
    "\n",
    "# Plot the filtered feature importance\n",
    "plt.barh(filtered_feature_importance['Feature'], filtered_feature_importance['Coefficient'], color=colors)\n",
    "plt.axvline(x=0, color='black', linestyle='dashed')\n",
    "\n",
    "# Improve readability\n",
    "plt.xlabel('Coefficient Value', fontsize=14)\n",
    "plt.ylabel('Feature', fontsize=14)\n",
    "plt.title('Feature Importance in Logistic Regression (Filtered)', fontsize=16, loc='right')\n",
    "plt.xticks(fontsize=12)\n",
    "plt.yticks(fontsize=12)\n",
    "plt.grid(axis='x', linestyle='--', alpha=0.7)\n",
    "\n",
    "plt.show()\n",
    "\n"
   ]
  },
  {
   "cell_type": "code",
   "execution_count": 59,
   "metadata": {},
   "outputs": [
    {
     "data": {
      "text/html": [
       "<div>\n",
       "<style scoped>\n",
       "    .dataframe tbody tr th:only-of-type {\n",
       "        vertical-align: middle;\n",
       "    }\n",
       "\n",
       "    .dataframe tbody tr th {\n",
       "        vertical-align: top;\n",
       "    }\n",
       "\n",
       "    .dataframe thead th {\n",
       "        text-align: right;\n",
       "    }\n",
       "</style>\n",
       "<table border=\"1\" class=\"dataframe\">\n",
       "  <thead>\n",
       "    <tr style=\"text-align: right;\">\n",
       "      <th></th>\n",
       "      <th>Feature</th>\n",
       "      <th>Coefficient</th>\n",
       "    </tr>\n",
       "  </thead>\n",
       "  <tbody>\n",
       "    <tr>\n",
       "      <th>5</th>\n",
       "      <td>acad_press</td>\n",
       "      <td>3.247717</td>\n",
       "    </tr>\n",
       "    <tr>\n",
       "      <th>22</th>\n",
       "      <td>diet_habits_Unhealthy</td>\n",
       "      <td>0.447320</td>\n",
       "    </tr>\n",
       "    <tr>\n",
       "      <th>3</th>\n",
       "      <td>30-39</td>\n",
       "      <td>0.235937</td>\n",
       "    </tr>\n",
       "    <tr>\n",
       "      <th>16</th>\n",
       "      <td>sleep_dur_Less than 5 hours</td>\n",
       "      <td>0.111857</td>\n",
       "    </tr>\n",
       "    <tr>\n",
       "      <th>12</th>\n",
       "      <td>fam_hist_mental_No</td>\n",
       "      <td>-0.097528</td>\n",
       "    </tr>\n",
       "    <tr>\n",
       "      <th>0</th>\n",
       "      <td>18-21</td>\n",
       "      <td>-0.131894</td>\n",
       "    </tr>\n",
       "    <tr>\n",
       "      <th>17</th>\n",
       "      <td>sleep_dur_More than 8 hours</td>\n",
       "      <td>-0.166337</td>\n",
       "    </tr>\n",
       "    <tr>\n",
       "      <th>19</th>\n",
       "      <td>diet_habits_Healthy</td>\n",
       "      <td>-0.348630</td>\n",
       "    </tr>\n",
       "    <tr>\n",
       "      <th>2</th>\n",
       "      <td>26-29</td>\n",
       "      <td>-0.813014</td>\n",
       "    </tr>\n",
       "    <tr>\n",
       "      <th>7</th>\n",
       "      <td>study_sat</td>\n",
       "      <td>-0.896777</td>\n",
       "    </tr>\n",
       "    <tr>\n",
       "      <th>10</th>\n",
       "      <td>suicidal_thoughts_No</td>\n",
       "      <td>-2.298387</td>\n",
       "    </tr>\n",
       "  </tbody>\n",
       "</table>\n",
       "</div>"
      ],
      "text/plain": [
       "                        Feature  Coefficient\n",
       "5                    acad_press     3.247717\n",
       "22        diet_habits_Unhealthy     0.447320\n",
       "3                         30-39     0.235937\n",
       "16  sleep_dur_Less than 5 hours     0.111857\n",
       "12           fam_hist_mental_No    -0.097528\n",
       "0                         18-21    -0.131894\n",
       "17  sleep_dur_More than 8 hours    -0.166337\n",
       "19          diet_habits_Healthy    -0.348630\n",
       "2                         26-29    -0.813014\n",
       "7                     study_sat    -0.896777\n",
       "10         suicidal_thoughts_No    -2.298387"
      ]
     },
     "metadata": {},
     "output_type": "display_data"
    }
   ],
   "source": [
    "feature_importance_sorted = filtered_feature_importance.sort_values(by=\"Coefficient\", ascending=False)\n",
    "display(feature_importance_sorted.head(50))\n"
   ]
  }
 ],
 "metadata": {
  "kernelspec": {
   "display_name": "base",
   "language": "python",
   "name": "python3"
  },
  "language_info": {
   "codemirror_mode": {
    "name": "ipython",
    "version": 3
   },
   "file_extension": ".py",
   "mimetype": "text/x-python",
   "name": "python",
   "nbconvert_exporter": "python",
   "pygments_lexer": "ipython3",
   "version": "3.12.2"
  }
 },
 "nbformat": 4,
 "nbformat_minor": 2
}
